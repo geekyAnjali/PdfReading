{
 "cells": [
  {
   "cell_type": "markdown",
   "metadata": {},
   "source": [
    "# project idea \n",
    "<ul>\n",
    "<li> Add focus music button (audio playlist)\n",
    "<li> focus timer \n",
    "<li> timer \n",
    "<li> one click slider\n",
    "(comes out and goes in)\n",
    "Add Theme (dark/light)\n",
    "<li> Reading Time Graph ( how many times did you read )\n",
    "<li> Always keep on top of the window \n",
    "</ul>"
   ]
  },
  {
   "cell_type": "code",
   "execution_count": null,
   "metadata": {},
   "outputs": [],
   "source": []
  }
 ],
 "metadata": {
  "language_info": {
   "name": "python"
  }
 },
 "nbformat": 4,
 "nbformat_minor": 2
}
